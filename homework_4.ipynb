{
 "cells": [
  {
   "cell_type": "code",
   "execution_count": 69,
   "id": "8097138a-9ef4-4ffe-9a2e-006114d8a391",
   "metadata": {},
   "outputs": [],
   "source": [
    "import pandas as pd\n",
    "from sentence_transformers import SentenceTransformer\n",
    "from tqdm.auto import tqdm\n",
    "import numpy as np\n",
    "from rouge import Rouge"
   ]
  },
  {
   "cell_type": "code",
   "execution_count": 4,
   "id": "2b4c3c2c-4671-453f-aa46-0e62948bcdec",
   "metadata": {},
   "outputs": [],
   "source": [
    "github_url = \"https://raw.githubusercontent.com/DataTalksClub/llm-zoomcamp/main/04-monitoring/data/results-gpt4o-mini.csv\"\n",
    "url = f'{github_url}?raw=1'\n",
    "df = pd.read_csv(url)"
   ]
  },
  {
   "cell_type": "code",
   "execution_count": 6,
   "id": "ef146c02-858e-4e1a-9cb8-6d8d7cca4b9b",
   "metadata": {},
   "outputs": [],
   "source": [
    "df = df.iloc[:300]"
   ]
  },
  {
   "cell_type": "markdown",
   "id": "797e8783-b33d-4580-8897-0df57b2569c7",
   "metadata": {},
   "source": [
    "## Question 1"
   ]
  },
  {
   "cell_type": "code",
   "execution_count": 47,
   "id": "f96ad29a-f800-40d7-b11a-c2d5f35d39f7",
   "metadata": {},
   "outputs": [
    {
     "name": "stderr",
     "output_type": "stream",
     "text": [
      "You try to use a model that was created with version 3.0.0.dev0, however, your version is 2.7.0. This might cause unexpected behavior or errors. In that case, try to update to the latest version.\n",
      "\n",
      "\n",
      "\n"
     ]
    }
   ],
   "source": [
    "model_name = \"multi-qa-mpnet-base-dot-v1\"\n",
    "embedding_model = SentenceTransformer(model_name)"
   ]
  },
  {
   "cell_type": "code",
   "execution_count": 48,
   "id": "d2330fe7-ab04-4ed2-bec6-69c9bb337aec",
   "metadata": {},
   "outputs": [],
   "source": [
    "answer_llm = df.iloc[0].answer_llm"
   ]
  },
  {
   "cell_type": "code",
   "execution_count": 49,
   "id": "dd10fd51-f7dd-4e3c-a9fd-e2b805ac4644",
   "metadata": {},
   "outputs": [],
   "source": [
    "v = embedding_model.encode(answer_llm)"
   ]
  },
  {
   "cell_type": "code",
   "execution_count": 42,
   "id": "68f17822-ee06-4d96-8ac5-f8124f5aad8a",
   "metadata": {},
   "outputs": [
    {
     "data": {
      "text/plain": [
       "-0.42244673"
      ]
     },
     "execution_count": 42,
     "metadata": {},
     "output_type": "execute_result"
    }
   ],
   "source": [
    "v[0]"
   ]
  },
  {
   "cell_type": "markdown",
   "id": "f5b877ad-e537-45f6-9750-e29476d2245b",
   "metadata": {},
   "source": [
    "## Question 2"
   ]
  },
  {
   "cell_type": "code",
   "execution_count": 15,
   "id": "a479fb2b-cd59-439b-9193-9abf696e5bd0",
   "metadata": {},
   "outputs": [],
   "source": [
    "results_gpt4o = df.to_dict(orient='records')"
   ]
  },
  {
   "cell_type": "code",
   "execution_count": 27,
   "id": "ff88a05d-3e12-4752-bb5b-071bdd60c6fa",
   "metadata": {},
   "outputs": [],
   "source": [
    "def compute_similarity(record):\n",
    "    answer_orig = record['answer_orig']\n",
    "    answer_llm = record['answer_llm']\n",
    "    \n",
    "    v_llm = embedding_model.encode(answer_llm)\n",
    "    v_orig = embedding_model.encode(answer_orig)\n",
    "    \n",
    "    return v_llm.dot(v_orig)"
   ]
  },
  {
   "cell_type": "code",
   "execution_count": 28,
   "id": "86f2d868-121f-4550-8d00-b8dc68f06cf6",
   "metadata": {},
   "outputs": [
    {
     "name": "stderr",
     "output_type": "stream",
     "text": [
      "100%|█████████████████████████████████████████████████████████████████████████████████| 300/300 [00:09<00:00, 32.60it/s]\n"
     ]
    }
   ],
   "source": [
    "evaluations = []\n",
    "\n",
    "for record in tqdm(results_gpt4o):\n",
    "    sim = compute_similarity(record)\n",
    "    evaluations.append(sim)"
   ]
  },
  {
   "cell_type": "code",
   "execution_count": 30,
   "id": "dd9bec47-e55a-475c-9ea1-8cf40fc0467f",
   "metadata": {},
   "outputs": [
    {
     "name": "stderr",
     "output_type": "stream",
     "text": [
      "/tmp/ipykernel_1930/3950181546.py:1: SettingWithCopyWarning: \n",
      "A value is trying to be set on a copy of a slice from a DataFrame.\n",
      "Try using .loc[row_indexer,col_indexer] = value instead\n",
      "\n",
      "See the caveats in the documentation: https://pandas.pydata.org/pandas-docs/stable/user_guide/indexing.html#returning-a-view-versus-a-copy\n",
      "  df['cosine'] = evaluations\n"
     ]
    },
    {
     "data": {
      "text/plain": [
       "count    300.000000\n",
       "mean      27.495996\n",
       "std        6.384744\n",
       "min        4.547922\n",
       "25%       24.307846\n",
       "50%       28.336862\n",
       "75%       31.674308\n",
       "max       39.476017\n",
       "Name: cosine, dtype: float64"
      ]
     },
     "execution_count": 30,
     "metadata": {},
     "output_type": "execute_result"
    }
   ],
   "source": [
    "df['cosine'] = evaluations\n",
    "df['cosine'].describe()"
   ]
  },
  {
   "cell_type": "markdown",
   "id": "ab36518e-7390-4048-b388-7558a4255e3a",
   "metadata": {},
   "source": [
    "## Question 3"
   ]
  },
  {
   "cell_type": "code",
   "execution_count": 63,
   "id": "f13979df-9bcd-4b1e-9777-3105c1941b53",
   "metadata": {},
   "outputs": [],
   "source": [
    "def normalize_vectors(v):\n",
    "    norm = np.sqrt((v * v).sum())\n",
    "    v_norm = v / norm\n",
    "    return v_norm"
   ]
  },
  {
   "cell_type": "code",
   "execution_count": 64,
   "id": "5be99e4d-8867-4482-82e5-4715ca7f9619",
   "metadata": {},
   "outputs": [],
   "source": [
    "def compute_similarity_norm(record):\n",
    "    answer_orig = record['answer_orig']\n",
    "    answer_llm = record['answer_llm']\n",
    "    \n",
    "    v_llm = embedding_model.encode(answer_llm)\n",
    "    v_orig = embedding_model.encode(answer_orig)\n",
    "\n",
    "    v_llm = normalize_vectors(v_llm)\n",
    "    v_orig = normalize_vectors(v_orig)\n",
    "    \n",
    "    return v_llm.dot(v_orig)"
   ]
  },
  {
   "cell_type": "code",
   "execution_count": 65,
   "id": "baf8a7d0-d0cd-47f3-8720-2751f0744d2e",
   "metadata": {},
   "outputs": [],
   "source": [
    "norm_vec = normalize_vectors(v)"
   ]
  },
  {
   "cell_type": "code",
   "execution_count": 66,
   "id": "cb35d1f8-7631-409f-ac18-1d717d05869c",
   "metadata": {},
   "outputs": [
    {
     "name": "stderr",
     "output_type": "stream",
     "text": [
      "100%|█████████████████████████████████████████████████████████████████████████████████| 300/300 [00:08<00:00, 33.56it/s]\n"
     ]
    }
   ],
   "source": [
    "evaluations_norm = []\n",
    "\n",
    "for record in tqdm(results_gpt4o):\n",
    "    sim = compute_similarity_norm(record)\n",
    "    evaluations_norm.append(sim)"
   ]
  },
  {
   "cell_type": "code",
   "execution_count": 67,
   "id": "30b9cb73-399f-4bdd-be99-5ad426131726",
   "metadata": {},
   "outputs": [
    {
     "name": "stderr",
     "output_type": "stream",
     "text": [
      "/tmp/ipykernel_1930/4052359646.py:1: SettingWithCopyWarning: \n",
      "A value is trying to be set on a copy of a slice from a DataFrame.\n",
      "Try using .loc[row_indexer,col_indexer] = value instead\n",
      "\n",
      "See the caveats in the documentation: https://pandas.pydata.org/pandas-docs/stable/user_guide/indexing.html#returning-a-view-versus-a-copy\n",
      "  df['cosine_norm'] = evaluations_norm\n"
     ]
    },
    {
     "data": {
      "text/plain": [
       "count    300.000000\n",
       "mean       0.728392\n",
       "std        0.157755\n",
       "min        0.125357\n",
       "25%        0.651273\n",
       "50%        0.763761\n",
       "75%        0.836235\n",
       "max        0.958796\n",
       "Name: cosine_norm, dtype: float64"
      ]
     },
     "execution_count": 67,
     "metadata": {},
     "output_type": "execute_result"
    }
   ],
   "source": [
    "df['cosine_norm'] = evaluations_norm\n",
    "df['cosine_norm'].describe()"
   ]
  },
  {
   "cell_type": "markdown",
   "id": "9f34c012-d9f5-4a16-ab7f-a5649a4cf8dc",
   "metadata": {},
   "source": [
    "## Question 4"
   ]
  },
  {
   "cell_type": "code",
   "execution_count": 68,
   "id": "34201b77-c619-44e5-b9be-05427e82cb27",
   "metadata": {},
   "outputs": [
    {
     "name": "stderr",
     "output_type": "stream",
     "text": [
      "huggingface/tokenizers: The current process just got forked, after parallelism has already been used. Disabling parallelism to avoid deadlocks...\n",
      "To disable this warning, you can either:\n",
      "\t- Avoid using `tokenizers` before the fork if possible\n",
      "\t- Explicitly set the environment variable TOKENIZERS_PARALLELISM=(true | false)\n"
     ]
    },
    {
     "name": "stdout",
     "output_type": "stream",
     "text": [
      "Collecting rouge\n",
      "  Downloading rouge-1.0.1-py3-none-any.whl (13 kB)\n",
      "Requirement already satisfied: six in ./venv/lib/python3.10/site-packages (from rouge) (1.16.0)\n",
      "Installing collected packages: rouge\n",
      "Successfully installed rouge-1.0.1\n"
     ]
    }
   ],
   "source": [
    "!pip install rouge"
   ]
  },
  {
   "cell_type": "code",
   "execution_count": 71,
   "id": "502a3cd9-2734-4ed2-b9d8-ee7f4ed532bc",
   "metadata": {},
   "outputs": [],
   "source": [
    "rouge_scorer = Rouge()\n",
    "\n",
    "r = results_gpt4o[10]\n",
    "\n",
    "scores = rouge_scorer.get_scores(r['answer_llm'], r['answer_orig'])[0]"
   ]
  },
  {
   "cell_type": "code",
   "execution_count": 73,
   "id": "47fefafa-541b-4b97-9a66-bb9c4a2acc53",
   "metadata": {},
   "outputs": [
    {
     "data": {
      "text/plain": [
       "0.45454544954545456"
      ]
     },
     "execution_count": 73,
     "metadata": {},
     "output_type": "execute_result"
    }
   ],
   "source": [
    "scores['rouge-1']['f']"
   ]
  },
  {
   "cell_type": "markdown",
   "id": "5234e718-3b57-4ea1-bd76-e53e05eb2c83",
   "metadata": {},
   "source": [
    "## Question 5"
   ]
  },
  {
   "cell_type": "code",
   "execution_count": 77,
   "id": "2141a975-e368-4deb-bdcd-22ff1bf1f1b9",
   "metadata": {},
   "outputs": [],
   "source": [
    "rouge_1 = scores['rouge-1']['f']\n",
    "rouge_2 = scores['rouge-2']['f']\n",
    "rouge_l = scores['rouge-l']['f']\n",
    "rouge_avg = (rouge_1 + rouge_2 + rouge_l) / 3"
   ]
  },
  {
   "cell_type": "code",
   "execution_count": 78,
   "id": "6659fb65-fbda-4135-b8ca-7337a74ce4ef",
   "metadata": {},
   "outputs": [
    {
     "data": {
      "text/plain": [
       "0.35490034990035496"
      ]
     },
     "execution_count": 78,
     "metadata": {},
     "output_type": "execute_result"
    }
   ],
   "source": [
    "rouge_avg"
   ]
  },
  {
   "cell_type": "markdown",
   "id": "d0e1dcbc-b9e0-4b9f-95d3-fba2bb7d5ba4",
   "metadata": {},
   "source": [
    "## Question 6"
   ]
  },
  {
   "cell_type": "code",
   "execution_count": 90,
   "id": "e6f9b8b3-a359-45f0-a48d-5c59fa3a6c07",
   "metadata": {},
   "outputs": [],
   "source": [
    "def compute_rouge(r):\n",
    "    scores = rouge_scorer.get_scores(r['answer_llm'], r['answer_orig'])[0]\n",
    "    rouge_1 = scores['rouge-1']['f']\n",
    "    rouge_2 = scores['rouge-2']['f']\n",
    "    rouge_l = scores['rouge-l']['f']\n",
    "    rouge_dict = {'rouge_1':rouge_1, \"rouge_2\":rouge_2, \"rouge_l\":rouge_l}\n",
    "    return rouge_dict"
   ]
  },
  {
   "cell_type": "code",
   "execution_count": 91,
   "id": "79574363-7f39-477f-a188-0b06005a2b6e",
   "metadata": {},
   "outputs": [
    {
     "name": "stderr",
     "output_type": "stream",
     "text": [
      "100%|████████████████████████████████████████████████████████████████████████████████| 300/300 [00:00<00:00, 671.85it/s]\n"
     ]
    }
   ],
   "source": [
    "rouge_scores = []\n",
    "\n",
    "for record in tqdm(results_gpt4o):\n",
    "    sim = compute_rouge(record)\n",
    "    rouge_scores.append(sim)"
   ]
  },
  {
   "cell_type": "code",
   "execution_count": 94,
   "id": "8df14692-bb7d-46dd-90e3-7c63063724a6",
   "metadata": {},
   "outputs": [],
   "source": [
    "df_rouge = pd.DataFrame(rouge_scores)"
   ]
  },
  {
   "cell_type": "code",
   "execution_count": 95,
   "id": "1c85c975-d860-48a1-b42c-963ee9314a75",
   "metadata": {},
   "outputs": [
    {
     "data": {
      "text/plain": [
       "0.20696501983423318"
      ]
     },
     "execution_count": 95,
     "metadata": {},
     "output_type": "execute_result"
    }
   ],
   "source": [
    "df_rouge['rouge_2'].mean()"
   ]
  },
  {
   "cell_type": "code",
   "execution_count": null,
   "id": "f45170f3-4805-4c5c-9dac-0ea42ddae583",
   "metadata": {},
   "outputs": [],
   "source": []
  }
 ],
 "metadata": {
  "kernelspec": {
   "display_name": "Python 3 (ipykernel)",
   "language": "python",
   "name": "python3"
  },
  "language_info": {
   "codemirror_mode": {
    "name": "ipython",
    "version": 3
   },
   "file_extension": ".py",
   "mimetype": "text/x-python",
   "name": "python",
   "nbconvert_exporter": "python",
   "pygments_lexer": "ipython3",
   "version": "3.10.12"
  }
 },
 "nbformat": 4,
 "nbformat_minor": 5
}
